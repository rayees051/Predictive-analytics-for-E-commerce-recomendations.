{
 "cells": [
  {
   "cell_type": "code",
   "execution_count": 5,
   "id": "f381af66",
   "metadata": {},
   "outputs": [
    {
     "data": {
      "text/html": [
       "<div>\n",
       "<style scoped>\n",
       "    .dataframe tbody tr th:only-of-type {\n",
       "        vertical-align: middle;\n",
       "    }\n",
       "\n",
       "    .dataframe tbody tr th {\n",
       "        vertical-align: top;\n",
       "    }\n",
       "\n",
       "    .dataframe thead th {\n",
       "        text-align: right;\n",
       "    }\n",
       "</style>\n",
       "<table border=\"1\" class=\"dataframe\">\n",
       "  <thead>\n",
       "    <tr style=\"text-align: right;\">\n",
       "      <th></th>\n",
       "      <th>InvoiceNo</th>\n",
       "      <th>StockCode</th>\n",
       "      <th>Description</th>\n",
       "      <th>Quantity</th>\n",
       "      <th>InvoiceDate</th>\n",
       "      <th>UnitPrice</th>\n",
       "      <th>CustomerID</th>\n",
       "      <th>Country</th>\n",
       "    </tr>\n",
       "  </thead>\n",
       "  <tbody>\n",
       "    <tr>\n",
       "      <th>0</th>\n",
       "      <td>536365</td>\n",
       "      <td>85123A</td>\n",
       "      <td>WHITE HANGING HEART T-LIGHT HOLDER</td>\n",
       "      <td>6</td>\n",
       "      <td>12/1/2010 8:26</td>\n",
       "      <td>2.55</td>\n",
       "      <td>17850.0</td>\n",
       "      <td>United Kingdom</td>\n",
       "    </tr>\n",
       "    <tr>\n",
       "      <th>1</th>\n",
       "      <td>536365</td>\n",
       "      <td>71053</td>\n",
       "      <td>WHITE METAL LANTERN</td>\n",
       "      <td>6</td>\n",
       "      <td>12/1/2010 8:26</td>\n",
       "      <td>3.39</td>\n",
       "      <td>17850.0</td>\n",
       "      <td>United Kingdom</td>\n",
       "    </tr>\n",
       "    <tr>\n",
       "      <th>2</th>\n",
       "      <td>536365</td>\n",
       "      <td>84406B</td>\n",
       "      <td>CREAM CUPID HEARTS COAT HANGER</td>\n",
       "      <td>8</td>\n",
       "      <td>12/1/2010 8:26</td>\n",
       "      <td>2.75</td>\n",
       "      <td>17850.0</td>\n",
       "      <td>United Kingdom</td>\n",
       "    </tr>\n",
       "    <tr>\n",
       "      <th>3</th>\n",
       "      <td>536365</td>\n",
       "      <td>84029G</td>\n",
       "      <td>KNITTED UNION FLAG HOT WATER BOTTLE</td>\n",
       "      <td>6</td>\n",
       "      <td>12/1/2010 8:26</td>\n",
       "      <td>3.39</td>\n",
       "      <td>17850.0</td>\n",
       "      <td>United Kingdom</td>\n",
       "    </tr>\n",
       "    <tr>\n",
       "      <th>4</th>\n",
       "      <td>536365</td>\n",
       "      <td>84029E</td>\n",
       "      <td>RED WOOLLY HOTTIE WHITE HEART.</td>\n",
       "      <td>6</td>\n",
       "      <td>12/1/2010 8:26</td>\n",
       "      <td>3.39</td>\n",
       "      <td>17850.0</td>\n",
       "      <td>United Kingdom</td>\n",
       "    </tr>\n",
       "  </tbody>\n",
       "</table>\n",
       "</div>"
      ],
      "text/plain": [
       "  InvoiceNo StockCode                          Description  Quantity  \\\n",
       "0    536365    85123A   WHITE HANGING HEART T-LIGHT HOLDER         6   \n",
       "1    536365     71053                  WHITE METAL LANTERN         6   \n",
       "2    536365    84406B       CREAM CUPID HEARTS COAT HANGER         8   \n",
       "3    536365    84029G  KNITTED UNION FLAG HOT WATER BOTTLE         6   \n",
       "4    536365    84029E       RED WOOLLY HOTTIE WHITE HEART.         6   \n",
       "\n",
       "      InvoiceDate  UnitPrice  CustomerID         Country  \n",
       "0  12/1/2010 8:26       2.55     17850.0  United Kingdom  \n",
       "1  12/1/2010 8:26       3.39     17850.0  United Kingdom  \n",
       "2  12/1/2010 8:26       2.75     17850.0  United Kingdom  \n",
       "3  12/1/2010 8:26       3.39     17850.0  United Kingdom  \n",
       "4  12/1/2010 8:26       3.39     17850.0  United Kingdom  "
      ]
     },
     "execution_count": 5,
     "metadata": {},
     "output_type": "execute_result"
    }
   ],
   "source": [
    "import pandas as pd\n",
    "df=pd.read_csv('data.csv',encoding='ISO-8859-1')\n",
    "df.head()"
   ]
  },
  {
   "cell_type": "code",
   "execution_count": 6,
   "id": "a48067a5",
   "metadata": {},
   "outputs": [
    {
     "name": "stderr",
     "output_type": "stream",
     "text": [
      "C:\\Users\\rayee\\AppData\\Local\\Temp\\ipykernel_14856\\3748689771.py:6: FutureWarning: The default value of observed=False is deprecated and will change to observed=True in a future version of pandas. Specify observed=False to silence this warning and retain the current behavior\n",
      "  user_item_matrix = df.pivot_table(index='CustomerID', columns='Description', values='Quantity', fill_value=0)\n"
     ]
    },
    {
     "name": "stdout",
     "output_type": "stream",
     "text": [
      "Description   4 PURPLE FLOCK DINNER CANDLES   50'S CHRISTMAS GIFT BAG LARGE  \\\n",
      "CustomerID                                                                    \n",
      "12346.0                                 0.0                             0.0   \n",
      "12347.0                                 0.0                             0.0   \n",
      "12348.0                                 0.0                             0.0   \n",
      "12349.0                                 0.0                             0.0   \n",
      "12350.0                                 0.0                             0.0   \n",
      "\n",
      "Description   DOLLY GIRL BEAKER   I LOVE LONDON MINI BACKPACK  \\\n",
      "CustomerID                                                      \n",
      "12346.0                     0.0                           0.0   \n",
      "12347.0                     0.0                           0.0   \n",
      "12348.0                     0.0                           0.0   \n",
      "12349.0                     0.0                           0.0   \n",
      "12350.0                     0.0                           0.0   \n",
      "\n",
      "Description   I LOVE LONDON MINI RUCKSACK   NINE DRAWER OFFICE TIDY  \\\n",
      "CustomerID                                                            \n",
      "12346.0                               0.0                       0.0   \n",
      "12347.0                               0.0                       0.0   \n",
      "12348.0                               0.0                       0.0   \n",
      "12349.0                               0.0                       0.0   \n",
      "12350.0                               0.0                       0.0   \n",
      "\n",
      "Description   OVAL WALL MIRROR DIAMANTE    RED SPOT GIFT BAG LARGE  \\\n",
      "CustomerID                                                           \n",
      "12346.0                              0.0                       0.0   \n",
      "12347.0                              0.0                       0.0   \n",
      "12348.0                              0.0                       0.0   \n",
      "12349.0                              0.0                       0.0   \n",
      "12350.0                              0.0                       0.0   \n",
      "\n",
      "Description   SET 2 TEA TOWELS I LOVE LONDON    SPACEBOY BABY GIFT SET  ...  \\\n",
      "CustomerID                                                              ...   \n",
      "12346.0                                   0.0                      0.0  ...   \n",
      "12347.0                                   0.0                      0.0  ...   \n",
      "12348.0                                   0.0                      0.0  ...   \n",
      "12349.0                                   0.0                      0.0  ...   \n",
      "12350.0                                   0.0                      0.0  ...   \n",
      "\n",
      "Description  ZINC STAR T-LIGHT HOLDER   ZINC SWEETHEART SOAP DISH  \\\n",
      "CustomerID                                                          \n",
      "12346.0                            0.0                        0.0   \n",
      "12347.0                            0.0                        0.0   \n",
      "12348.0                            0.0                        0.0   \n",
      "12349.0                            0.0                        0.0   \n",
      "12350.0                            0.0                        0.0   \n",
      "\n",
      "Description  ZINC SWEETHEART WIRE LETTER RACK  ZINC T-LIGHT HOLDER STAR LARGE  \\\n",
      "CustomerID                                                                      \n",
      "12346.0                                   0.0                             0.0   \n",
      "12347.0                                   0.0                             0.0   \n",
      "12348.0                                   0.0                             0.0   \n",
      "12349.0                                   0.0                             0.0   \n",
      "12350.0                                   0.0                             0.0   \n",
      "\n",
      "Description  ZINC T-LIGHT HOLDER STARS LARGE  ZINC T-LIGHT HOLDER STARS SMALL  \\\n",
      "CustomerID                                                                      \n",
      "12346.0                                  0.0                              0.0   \n",
      "12347.0                                  0.0                              0.0   \n",
      "12348.0                                  0.0                              0.0   \n",
      "12349.0                                  0.0                              0.0   \n",
      "12350.0                                  0.0                              0.0   \n",
      "\n",
      "Description  ZINC TOP  2 DOOR WOODEN SHELF   ZINC WILLIE WINKIE  CANDLE STICK  \\\n",
      "CustomerID                                                                      \n",
      "12346.0                                 0.0                               0.0   \n",
      "12347.0                                 0.0                               0.0   \n",
      "12348.0                                 0.0                               0.0   \n",
      "12349.0                                 0.0                               0.0   \n",
      "12350.0                                 0.0                               0.0   \n",
      "\n",
      "Description  ZINC WIRE KITCHEN ORGANISER  ZINC WIRE SWEETHEART LETTER TRAY  \n",
      "CustomerID                                                                  \n",
      "12346.0                              0.0                               0.0  \n",
      "12347.0                              0.0                               0.0  \n",
      "12348.0                              0.0                               0.0  \n",
      "12349.0                              0.0                               0.0  \n",
      "12350.0                              0.0                               0.0  \n",
      "\n",
      "[5 rows x 3896 columns]\n"
     ]
    }
   ],
   "source": [
    "# Convert 'CustomerID' and 'Description' to categorical codes\n",
    "df['CustomerID'] = df['CustomerID'].astype('category')\n",
    "df['Description'] = df['Description'].astype('category')\n",
    "\n",
    "# Create a user-item interaction matrix (user, item, quantity)\n",
    "user_item_matrix = df.pivot_table(index='CustomerID', columns='Description', values='Quantity', fill_value=0)\n",
    "\n",
    "# Display the user-item matrix (optional)\n",
    "print(user_item_matrix.head())"
   ]
  },
  {
   "cell_type": "code",
   "execution_count": 13,
   "id": "0dbcde41",
   "metadata": {},
   "outputs": [
    {
     "name": "stdout",
     "output_type": "stream",
     "text": [
      "Recommendations for CustomerID 12350.0: CategoricalIndex([12350.0, 15180.0, 15422.0, 13455.0, 15435.0], categories=[12346.0, 12347.0, 12348.0, 12349.0, ..., 18281.0, 18282.0, 18283.0, 18287.0], ordered=False, dtype='category', name='CustomerID')\n"
     ]
    }
   ],
   "source": [
    "from sklearn.neighbors import NearestNeighbors\n",
    "import numpy as np\n",
    "\n",
    "# Initialize the k-NN model with cosine similarity\n",
    "knn = NearestNeighbors(n_neighbors=5, metric='cosine')\n",
    "\n",
    "# Fit the k-NN model using the user-item interaction matrix (after normalization)\n",
    "knn.fit(user_item_matrix.values)\n",
    "\n",
    "# Get the recommendations for a specific user (e.g., CustomerID 10)\n",
    "customer_id = 12350.0\n",
    "\n",
    "# Ensure the user exists in the matrix\n",
    "if customer_id in user_item_matrix.index:\n",
    "    user_vector = user_item_matrix.loc[customer_id].values.reshape(1, -1)\n",
    "    \n",
    "    # Get the 5 most similar users to this user\n",
    "    distances, indices = knn.kneighbors(user_vector, n_neighbors=5)\n",
    "    \n",
    "    # Decode indices back to user IDs or items if needed\n",
    "    recommended_users = user_item_matrix.index[indices.flatten()]\n",
    "    print(f\"Recommendations for CustomerID {customer_id}: {recommended_users}\")\n",
    "else:\n",
    "    print(f\"CustomerID {customer_id} not found.\")"
   ]
  },
  {
   "cell_type": "code",
   "execution_count": 14,
   "id": "575958c3",
   "metadata": {},
   "outputs": [
    {
     "name": "stdout",
     "output_type": "stream",
     "text": [
      "Top 5 most popular items: Description\n",
      "WORLD WAR 2 GLIDERS ASSTD DESIGNS    25270.387446\n",
      "PACK OF 72 RETROSPOT CAKE CASES      16043.224603\n",
      "ASSORTED COLOUR BIRD ORNAMENT        14106.379783\n",
      "ASSTD DESIGN 3D PAPER STICKERS       13543.250000\n",
      "ASSORTED COLOURS SILK FAN            13202.200000\n",
      "dtype: float64\n"
     ]
    }
   ],
   "source": [
    "# Get the most popular items (by total quantity sold)\n",
    "item_popularity = user_item_matrix.sum(axis=0).sort_values(ascending=False).head(5)\n",
    "print(f\"Top 5 most popular items: {item_popularity}\")"
   ]
  },
  {
   "cell_type": "code",
   "execution_count": null,
   "id": "f9fda772",
   "metadata": {},
   "outputs": [
    {
     "data": {
      "text/html": [
       "<div>\n",
       "<style scoped>\n",
       "    .dataframe tbody tr th:only-of-type {\n",
       "        vertical-align: middle;\n",
       "    }\n",
       "\n",
       "    .dataframe tbody tr th {\n",
       "        vertical-align: top;\n",
       "    }\n",
       "\n",
       "    .dataframe thead th {\n",
       "        text-align: right;\n",
       "    }\n",
       "</style>\n",
       "<table border=\"1\" class=\"dataframe\">\n",
       "  <thead>\n",
       "    <tr style=\"text-align: right;\">\n",
       "      <th></th>\n",
       "      <th>InvoiceNo</th>\n",
       "      <th>StockCode</th>\n",
       "      <th>Description</th>\n",
       "      <th>Quantity</th>\n",
       "      <th>InvoiceDate</th>\n",
       "      <th>UnitPrice</th>\n",
       "      <th>CustomerID</th>\n",
       "      <th>Country</th>\n",
       "    </tr>\n",
       "  </thead>\n",
       "  <tbody>\n",
       "    <tr>\n",
       "      <th>0</th>\n",
       "      <td>536365</td>\n",
       "      <td>85123A</td>\n",
       "      <td>WHITE HANGING HEART T-LIGHT HOLDER</td>\n",
       "      <td>6</td>\n",
       "      <td>12/1/2010 8:26</td>\n",
       "      <td>2.55</td>\n",
       "      <td>17850.0</td>\n",
       "      <td>United Kingdom</td>\n",
       "    </tr>\n",
       "    <tr>\n",
       "      <th>1</th>\n",
       "      <td>536365</td>\n",
       "      <td>71053</td>\n",
       "      <td>WHITE METAL LANTERN</td>\n",
       "      <td>6</td>\n",
       "      <td>12/1/2010 8:26</td>\n",
       "      <td>3.39</td>\n",
       "      <td>17850.0</td>\n",
       "      <td>United Kingdom</td>\n",
       "    </tr>\n",
       "    <tr>\n",
       "      <th>2</th>\n",
       "      <td>536365</td>\n",
       "      <td>84406B</td>\n",
       "      <td>CREAM CUPID HEARTS COAT HANGER</td>\n",
       "      <td>8</td>\n",
       "      <td>12/1/2010 8:26</td>\n",
       "      <td>2.75</td>\n",
       "      <td>17850.0</td>\n",
       "      <td>United Kingdom</td>\n",
       "    </tr>\n",
       "    <tr>\n",
       "      <th>3</th>\n",
       "      <td>536365</td>\n",
       "      <td>84029G</td>\n",
       "      <td>KNITTED UNION FLAG HOT WATER BOTTLE</td>\n",
       "      <td>6</td>\n",
       "      <td>12/1/2010 8:26</td>\n",
       "      <td>3.39</td>\n",
       "      <td>17850.0</td>\n",
       "      <td>United Kingdom</td>\n",
       "    </tr>\n",
       "    <tr>\n",
       "      <th>4</th>\n",
       "      <td>536365</td>\n",
       "      <td>84029E</td>\n",
       "      <td>RED WOOLLY HOTTIE WHITE HEART.</td>\n",
       "      <td>6</td>\n",
       "      <td>12/1/2010 8:26</td>\n",
       "      <td>3.39</td>\n",
       "      <td>17850.0</td>\n",
       "      <td>United Kingdom</td>\n",
       "    </tr>\n",
       "  </tbody>\n",
       "</table>\n",
       "</div>"
      ],
      "text/plain": [
       "  InvoiceNo StockCode                          Description  Quantity  \\\n",
       "0    536365    85123A   WHITE HANGING HEART T-LIGHT HOLDER         6   \n",
       "1    536365     71053                  WHITE METAL LANTERN         6   \n",
       "2    536365    84406B       CREAM CUPID HEARTS COAT HANGER         8   \n",
       "3    536365    84029G  KNITTED UNION FLAG HOT WATER BOTTLE         6   \n",
       "4    536365    84029E       RED WOOLLY HOTTIE WHITE HEART.         6   \n",
       "\n",
       "      InvoiceDate  UnitPrice  CustomerID         Country  \n",
       "0  12/1/2010 8:26       2.55     17850.0  United Kingdom  \n",
       "1  12/1/2010 8:26       3.39     17850.0  United Kingdom  \n",
       "2  12/1/2010 8:26       2.75     17850.0  United Kingdom  \n",
       "3  12/1/2010 8:26       3.39     17850.0  United Kingdom  \n",
       "4  12/1/2010 8:26       3.39     17850.0  United Kingdom  "
      ]
     },
     "metadata": {},
     "output_type": "display_data"
    }
   ],
   "source": [
    "import pandas as pd\n",
    "df=pd.read_csv('data.csv',encoding='ISO-8859-1')\n",
    "df.head()"
   ]
  },
  {
   "cell_type": "code",
   "execution_count": null,
   "id": "89c85778",
   "metadata": {},
   "outputs": [
    {
     "name": "stderr",
     "output_type": "stream",
     "text": [
      "C:\\Users\\rayee\\AppData\\Local\\Temp\\ipykernel_14856\\3748689771.py:6: FutureWarning: The default value of observed=False is deprecated and will change to observed=True in a future version of pandas. Specify observed=False to silence this warning and retain the current behavior\n",
      "  user_item_matrix = df.pivot_table(index='CustomerID', columns='Description', values='Quantity', fill_value=0)\n"
     ]
    },
    {
     "name": "stdout",
     "output_type": "stream",
     "text": [
      "Description   4 PURPLE FLOCK DINNER CANDLES   50'S CHRISTMAS GIFT BAG LARGE  \\\n",
      "CustomerID                                                                    \n",
      "12346.0                                 0.0                             0.0   \n",
      "12347.0                                 0.0                             0.0   \n",
      "12348.0                                 0.0                             0.0   \n",
      "12349.0                                 0.0                             0.0   \n",
      "12350.0                                 0.0                             0.0   \n",
      "\n",
      "Description   DOLLY GIRL BEAKER   I LOVE LONDON MINI BACKPACK  \\\n",
      "CustomerID                                                      \n",
      "12346.0                     0.0                           0.0   \n",
      "12347.0                     0.0                           0.0   \n",
      "12348.0                     0.0                           0.0   \n",
      "12349.0                     0.0                           0.0   \n",
      "12350.0                     0.0                           0.0   \n",
      "\n",
      "Description   I LOVE LONDON MINI RUCKSACK   NINE DRAWER OFFICE TIDY  \\\n",
      "CustomerID                                                            \n",
      "12346.0                               0.0                       0.0   \n",
      "12347.0                               0.0                       0.0   \n",
      "12348.0                               0.0                       0.0   \n",
      "12349.0                               0.0                       0.0   \n",
      "12350.0                               0.0                       0.0   \n",
      "\n",
      "Description   OVAL WALL MIRROR DIAMANTE    RED SPOT GIFT BAG LARGE  \\\n",
      "CustomerID                                                           \n",
      "12346.0                              0.0                       0.0   \n",
      "12347.0                              0.0                       0.0   \n",
      "12348.0                              0.0                       0.0   \n",
      "12349.0                              0.0                       0.0   \n",
      "12350.0                              0.0                       0.0   \n",
      "\n",
      "Description   SET 2 TEA TOWELS I LOVE LONDON    SPACEBOY BABY GIFT SET  ...  \\\n",
      "CustomerID                                                              ...   \n",
      "12346.0                                   0.0                      0.0  ...   \n",
      "12347.0                                   0.0                      0.0  ...   \n",
      "12348.0                                   0.0                      0.0  ...   \n",
      "12349.0                                   0.0                      0.0  ...   \n",
      "12350.0                                   0.0                      0.0  ...   \n",
      "\n",
      "Description  ZINC STAR T-LIGHT HOLDER   ZINC SWEETHEART SOAP DISH  \\\n",
      "CustomerID                                                          \n",
      "12346.0                            0.0                        0.0   \n",
      "12347.0                            0.0                        0.0   \n",
      "12348.0                            0.0                        0.0   \n",
      "12349.0                            0.0                        0.0   \n",
      "12350.0                            0.0                        0.0   \n",
      "\n",
      "Description  ZINC SWEETHEART WIRE LETTER RACK  ZINC T-LIGHT HOLDER STAR LARGE  \\\n",
      "CustomerID                                                                      \n",
      "12346.0                                   0.0                             0.0   \n",
      "12347.0                                   0.0                             0.0   \n",
      "12348.0                                   0.0                             0.0   \n",
      "12349.0                                   0.0                             0.0   \n",
      "12350.0                                   0.0                             0.0   \n",
      "\n",
      "Description  ZINC T-LIGHT HOLDER STARS LARGE  ZINC T-LIGHT HOLDER STARS SMALL  \\\n",
      "CustomerID                                                                      \n",
      "12346.0                                  0.0                              0.0   \n",
      "12347.0                                  0.0                              0.0   \n",
      "12348.0                                  0.0                              0.0   \n",
      "12349.0                                  0.0                              0.0   \n",
      "12350.0                                  0.0                              0.0   \n",
      "\n",
      "Description  ZINC TOP  2 DOOR WOODEN SHELF   ZINC WILLIE WINKIE  CANDLE STICK  \\\n",
      "CustomerID                                                                      \n",
      "12346.0                                 0.0                               0.0   \n",
      "12347.0                                 0.0                               0.0   \n",
      "12348.0                                 0.0                               0.0   \n",
      "12349.0                                 0.0                               0.0   \n",
      "12350.0                                 0.0                               0.0   \n",
      "\n",
      "Description  ZINC WIRE KITCHEN ORGANISER  ZINC WIRE SWEETHEART LETTER TRAY  \n",
      "CustomerID                                                                  \n",
      "12346.0                              0.0                               0.0  \n",
      "12347.0                              0.0                               0.0  \n",
      "12348.0                              0.0                               0.0  \n",
      "12349.0                              0.0                               0.0  \n",
      "12350.0                              0.0                               0.0  \n",
      "\n",
      "[5 rows x 3896 columns]\n"
     ]
    }
   ],
   "source": [
    "# Convert 'CustomerID' and 'Description' to categorical codes\n",
    "df['CustomerID'] = df['CustomerID'].astype('category')\n",
    "df['Description'] = df['Description'].astype('category')\n",
    "\n",
    "# Create a user-item interaction matrix (user, item, quantity)\n",
    "user_item_matrix = df.pivot_table(index='CustomerID', columns='Description', values='Quantity', fill_value=0)\n",
    "\n",
    "# Display the user-item matrix (optional)\n",
    "print(user_item_matrix.head())"
   ]
  },
  {
   "cell_type": "code",
   "execution_count": null,
   "id": "82fd53c2",
   "metadata": {},
   "outputs": [
    {
     "name": "stdout",
     "output_type": "stream",
     "text": [
      "Recommendations for CustomerID 12350.0: CategoricalIndex([12350.0, 15180.0, 15422.0, 13455.0, 15435.0], categories=[12346.0, 12347.0, 12348.0, 12349.0, ..., 18281.0, 18282.0, 18283.0, 18287.0], ordered=False, dtype='category', name='CustomerID')\n"
     ]
    }
   ],
   "source": [
    "from sklearn.neighbors import NearestNeighbors\n",
    "import numpy as np\n",
    "\n",
    "# Initialize the k-NN model with cosine similarity\n",
    "knn = NearestNeighbors(n_neighbors=5, metric='cosine')\n",
    "\n",
    "# Fit the k-NN model using the user-item interaction matrix (after normalization)\n",
    "knn.fit(user_item_matrix.values)\n",
    "\n",
    "# Get the recommendations for a specific user (e.g., CustomerID 10)\n",
    "customer_id = 12350.0\n",
    "\n",
    "# Ensure the user exists in the matrix\n",
    "if customer_id in user_item_matrix.index:\n",
    "    user_vector = user_item_matrix.loc[customer_id].values.reshape(1, -1)\n",
    "    \n",
    "    # Get the 5 most similar users to this user\n",
    "    distances, indices = knn.kneighbors(user_vector, n_neighbors=5)\n",
    "    \n",
    "    # Decode indices back to user IDs or items if needed\n",
    "    recommended_users = user_item_matrix.index[indices.flatten()]\n",
    "    print(f\"Recommendations for CustomerID {customer_id}: {recommended_users}\")\n",
    "else:\n",
    "    print(f\"CustomerID {customer_id} not found.\")"
   ]
  },
  {
   "cell_type": "code",
   "execution_count": null,
   "id": "96a8b153",
   "metadata": {},
   "outputs": [
    {
     "name": "stdout",
     "output_type": "stream",
     "text": [
      "Top 5 most popular items: Description\n",
      "WORLD WAR 2 GLIDERS ASSTD DESIGNS    25270.387446\n",
      "PACK OF 72 RETROSPOT CAKE CASES      16043.224603\n",
      "ASSORTED COLOUR BIRD ORNAMENT        14106.379783\n",
      "ASSTD DESIGN 3D PAPER STICKERS       13543.250000\n",
      "ASSORTED COLOURS SILK FAN            13202.200000\n",
      "dtype: float64\n"
     ]
    }
   ],
   "source": [
    "# Get the most popular items (by total quantity sold)\n",
    "item_popularity = user_item_matrix.sum(axis=0).sort_values(ascending=False).head(5)\n",
    "print(f\"Top 5 most popular items: {item_popularity}\")"
   ]
  },
  {
   "cell_type": "code",
   "execution_count": null,
   "id": "90e48077",
   "metadata": {},
   "outputs": [
    {
     "name": "stdout",
     "output_type": "stream",
     "text": [
      "Recommendations for existing CustomerID =12350.0: \n",
      "CategoricalIndex([' I LOVE LONDON MINI RUCKSACK',\n",
      "                  'MISELTOE HEART WREATH CREAM',\n",
      "                  'PACK OF 6 SWEETIE GIFT BOXES', 'COLUMBIAN CUBE CANDLE',\n",
      "                  'PACKING CHARGE'],\n",
      "                 categories=[' 4 PURPLE FLOCK DINNER CANDLES', ' 50'S CHRISTMAS GIFT BAG LARGE', ' DOLLY GIRL BEAKER', ' I LOVE LONDON MINI BACKPACK', ..., 'wrongly marked. 23343 in box', 'wrongly sold (22719) barcode', 'wrongly sold as sets', 'wrongly sold sets'], ordered=False, dtype='category', name='Description')\n",
      "\n",
      "Recommendations for new CustomerID= 9999:\n",
      " ['WORLD WAR 2 GLIDERS ASSTD DESIGNS', 'PACK OF 72 RETROSPOT CAKE CASES', 'ASSORTED COLOUR BIRD ORNAMENT', 'ASSTD DESIGN 3D PAPER STICKERS', 'ASSORTED COLOURS SILK FAN']\n"
     ]
    }
   ],
   "source": [
    "# Function to get recommendations for a given customer ID (new or existing)\n",
    "def get_recommendations(customer_id):\n",
    "    if customer_id in user_item_matrix.index:\n",
    "        # If the user exists in the dataset\n",
    "        user_vector = user_item_matrix.loc[customer_id].values.reshape(1, -1)\n",
    "        \n",
    "        # Get the 5 most similar users/items\n",
    "        distances, indices = knn.kneighbors(user_vector, n_neighbors=5)\n",
    "        \n",
    "        # Decode the indices back to item names (Descriptions)\n",
    "        recommended_items = user_item_matrix.columns[indices.flatten()]\n",
    "        return recommended_items\n",
    "    else:\n",
    "        # For cold start (new user), recommend the top 5 most popular items\n",
    "        item_popularity = user_item_matrix.sum(axis=0).sort_values(ascending=False).head(5)\n",
    "        return item_popularity.index.tolist()  # Returning top 5 items\n",
    "        \n",
    "# Test the function with an existing user and a new user\n",
    "customer_id_existing = 12350.0 # Example of an existing user\n",
    "customer_id_new = 9999  # Example of a new user (cold start)\n",
    "\n",
    "print(f\"Recommendations for existing CustomerID ={customer_id_existing}: \\n{get_recommendations(customer_id_existing)}\\n\")\n",
    "print(f\"Recommendations for new CustomerID= {customer_id_new}:\\n {get_recommendations(customer_id_new)}\")"
   ]
  },
  {
   "cell_type": "code",
   "execution_count": null,
   "id": "65ff222b",
   "metadata": {},
   "outputs": [
    {
     "data": {
      "text/plain": [
       "Index([' I LOVE LONDON MINI RUCKSACK', 'MISELTOE HEART WREATH CREAM',\n",
       "       'PACK OF 6 SWEETIE GIFT BOXES', 'COLUMBIAN CUBE CANDLE',\n",
       "       'PACKING CHARGE'],\n",
       "      dtype='object')"
      ]
     },
     "metadata": {},
     "output_type": "display_data"
    }
   ],
   "source": [
    "get_recommendations(12350.0)"
   ]
  },
  {
   "cell_type": "code",
   "execution_count": null,
   "id": "d67fc079",
   "metadata": {},
   "outputs": [],
   "source": [
    "import joblib as jlb\n",
    "jlb.dump(knn,'knn_model.pkl')\n",
    "user_item_matrix.to_csv('user_item_matrix.csv')"
   ]
  },
  {
   "cell_type": "code",
   "execution_count": null,
   "id": "de7865db",
   "metadata": {},
   "outputs": [
    {
     "name": "stdout",
     "output_type": "stream",
     "text": [
      "\n",
      "CustomerID 12350.0 found — generating personalized recommendations...\n",
      "Recommended items for CustomerID 12350.0: [' I LOVE LONDON MINI RUCKSACK', 'MISELTOE HEART WREATH CREAM', 'PACK OF 6 SWEETIE GIFT BOXES', 'COLUMBIAN CUBE CANDLE', 'PACKING CHARGE']\n"
     ]
    }
   ],
   "source": [
    "import pandas as pd\n",
    "from sklearn.neighbors import NearestNeighbors\n",
    "import joblib\n",
    "\n",
    "# Load the saved model and user-item matrix\n",
    "knn = joblib.load('knn_model.pkl')\n",
    "user_item_matrix = pd.read_csv('user_item_matrix.csv', index_col=0)\n",
    "user_item_matrix.index=user_item_matrix.index.astype(str)\n",
    "\n",
    "def recommend_products(customer_id, knn_model, interaction_matrix, top_n=5):\n",
    "    if str(customer_id) in interaction_matrix.index:\n",
    "        print(f\"\\nCustomerID {customer_id} found — generating personalized recommendations...\")\n",
    "        user_vector = interaction_matrix.loc[str(customer_id)].values.reshape(1, -1)\n",
    "        distances, indices = knn_model.kneighbors(user_vector, n_neighbors=top_n)\n",
    "        recommended_items = interaction_matrix.columns[indices.flatten()].tolist()\n",
    "        print(f\"Recommended items for CustomerID {customer_id}: {recommended_items}\")\n",
    "    else:\n",
    "        print(f\"\\nCustomerID {customer_id} not found (new user) — showing popular products...\")\n",
    "        popular_items = interaction_matrix.sum(axis=0).sort_values(ascending=False).head(top_n).index.tolist()\n",
    "        print(f\"Top {top_n} popular items: {popular_items}\")\n",
    "\n",
    "# Command line input\n",
    "customer_id = input(\"Enter your CustomerID: \")\n",
    "recommend_products(customer_id, knn, user_item_matrix)"
   ]
  },
  {
   "cell_type": "code",
   "execution_count": null,
   "id": "51624abd",
   "metadata": {},
   "outputs": [
    {
     "name": "stdout",
     "output_type": "stream",
     "text": [
      "Index(['12346.0', '12347.0', '12348.0', '12349.0', '12350.0'], dtype='object', name='CustomerID')\n"
     ]
    }
   ],
   "source": [
    "print(user_item_matrix.index[:5])"
   ]
  },
  {
   "cell_type": "code",
   "execution_count": null,
   "id": "a3b628bc",
   "metadata": {},
   "outputs": [],
   "source": []
  },
  {
   "cell_type": "code",
   "execution_count": null,
   "id": "502ae4af",
   "metadata": {},
   "outputs": [
    {
     "name": "stdout",
     "output_type": "stream",
     "text": [
      "Recommendations for existing CustomerID =12350.0: \n",
      "CategoricalIndex([' I LOVE LONDON MINI RUCKSACK',\n",
      "                  'MISELTOE HEART WREATH CREAM',\n",
      "                  'PACK OF 6 SWEETIE GIFT BOXES', 'COLUMBIAN CUBE CANDLE',\n",
      "                  'PACKING CHARGE'],\n",
      "                 categories=[' 4 PURPLE FLOCK DINNER CANDLES', ' 50'S CHRISTMAS GIFT BAG LARGE', ' DOLLY GIRL BEAKER', ' I LOVE LONDON MINI BACKPACK', ..., 'wrongly marked. 23343 in box', 'wrongly sold (22719) barcode', 'wrongly sold as sets', 'wrongly sold sets'], ordered=False, dtype='category', name='Description')\n",
      "\n",
      "Recommendations for new CustomerID= 9999:\n",
      " ['WORLD WAR 2 GLIDERS ASSTD DESIGNS', 'PACK OF 72 RETROSPOT CAKE CASES', 'ASSORTED COLOUR BIRD ORNAMENT', 'ASSTD DESIGN 3D PAPER STICKERS', 'ASSORTED COLOURS SILK FAN']\n"
     ]
    }
   ],
   "source": [
    "# Function to get recommendations for a given customer ID (new or existing)\n",
    "def get_recommendations(customer_id):\n",
    "    if customer_id in user_item_matrix.index:\n",
    "        # If the user exists in the dataset\n",
    "        user_vector = user_item_matrix.loc[customer_id].values.reshape(1, -1)\n",
    "        \n",
    "        # Get the 5 most similar users/items\n",
    "        distances, indices = knn.kneighbors(user_vector, n_neighbors=5)\n",
    "        \n",
    "        # Decode the indices back to item names (Descriptions)\n",
    "        recommended_items = user_item_matrix.columns[indices.flatten()]\n",
    "        return recommended_items\n",
    "    else:\n",
    "        # For cold start (new user), recommend the top 5 most popular items\n",
    "        item_popularity = user_item_matrix.sum(axis=0).sort_values(ascending=False).head(5)\n",
    "        return item_popularity.index.tolist()  # Returning top 5 items\n",
    "        \n",
    "# Test the function with an existing user and a new user\n",
    "customer_id_existing = 12350.0 # Example of an existing user\n",
    "customer_id_new = 9999  # Example of a new user (cold start)\n",
    "\n",
    "print(f\"Recommendations for existing CustomerID ={customer_id_existing}: \\n{get_recommendations(customer_id_existing)}\\n\")\n",
    "print(f\"Recommendations for new CustomerID= {customer_id_new}:\\n {get_recommendations(customer_id_new)}\")"
   ]
  },
  {
   "cell_type": "code",
   "execution_count": 34,
   "id": "b3eb7fe5",
   "metadata": {},
   "outputs": [
    {
     "data": {
      "text/plain": [
       "Index([' I LOVE LONDON MINI RUCKSACK', 'MISELTOE HEART WREATH CREAM',\n",
       "       'PACK OF 6 SWEETIE GIFT BOXES', 'COLUMBIAN CUBE CANDLE',\n",
       "       'PACKING CHARGE'],\n",
       "      dtype='object')"
      ]
     },
     "execution_count": 34,
     "metadata": {},
     "output_type": "execute_result"
    }
   ],
   "source": [
    "get_recommendations(12350.0)"
   ]
  },
  {
   "cell_type": "code",
   "execution_count": 29,
   "id": "46b2b62c",
   "metadata": {},
   "outputs": [],
   "source": [
    "import joblib as jlb\n",
    "jlb.dump(knn,'knn_model.pkl')\n",
    "user_item_matrix.to_csv('user_item_matrix.csv')"
   ]
  },
  {
   "cell_type": "code",
   "execution_count": 2,
   "id": "a756cda8",
   "metadata": {},
   "outputs": [
    {
     "name": "stdout",
     "output_type": "stream",
     "text": [
      "\n",
      "CustomerID 12350.0 found — generating personalized recommendations...\n",
      "Recommended items for CustomerID 12350.0: [' I LOVE LONDON MINI RUCKSACK', 'MISELTOE HEART WREATH CREAM', 'PACK OF 6 SWEETIE GIFT BOXES', 'COLUMBIAN CUBE CANDLE', 'PACKING CHARGE']\n"
     ]
    }
   ],
   "source": [
    "import pandas as pd\n",
    "from sklearn.neighbors import NearestNeighbors\n",
    "import joblib\n",
    "\n",
    "# Load the saved model and user-item matrix\n",
    "knn = joblib.load('knn_model.pkl')\n",
    "user_item_matrix = pd.read_csv('user_item_matrix.csv', index_col=0)\n",
    "user_item_matrix.index=user_item_matrix.index.astype(str)\n",
    "\n",
    "def recommend_products(customer_id, knn_model, interaction_matrix, top_n=5):\n",
    "    if str(customer_id) in interaction_matrix.index:\n",
    "        print(f\"\\nCustomerID {customer_id} found — generating personalized recommendations...\")\n",
    "        user_vector = interaction_matrix.loc[str(customer_id)].values.reshape(1, -1)\n",
    "        distances, indices = knn_model.kneighbors(user_vector, n_neighbors=top_n)\n",
    "        recommended_items = interaction_matrix.columns[indices.flatten()].tolist()\n",
    "        print(f\"Recommended items for CustomerID {customer_id}: {recommended_items}\")\n",
    "    else:\n",
    "        print(f\"\\nCustomerID {customer_id} not found (new user) — showing popular products...\")\n",
    "        popular_items = interaction_matrix.sum(axis=0).sort_values(ascending=False).head(top_n).index.tolist()\n",
    "        print(f\"Top {top_n} popular items: {popular_items}\")\n",
    "\n",
    "# Command line input\n",
    "customer_id = input(\"Enter your CustomerID: \")\n",
    "recommend_products(customer_id, knn, user_item_matrix)"
   ]
  },
  {
   "cell_type": "code",
   "execution_count": 52,
   "id": "2b2a2311",
   "metadata": {},
   "outputs": [
    {
     "name": "stdout",
     "output_type": "stream",
     "text": [
      "Index(['12346.0', '12347.0', '12348.0', '12349.0', '12350.0'], dtype='object', name='CustomerID')\n"
     ]
    }
   ],
   "source": [
    "print(user_item_matrix.index[:5])"
   ]
  },
  {
   "cell_type": "code",
   "execution_count": null,
   "id": "194984fe",
   "metadata": {},
   "outputs": [],
   "source": []
  }
 ],
 "metadata": {
  "kernelspec": {
   "display_name": "Python 3",
   "language": "python",
   "name": "python3"
  },
  "language_info": {
   "codemirror_mode": {
    "name": "ipython",
    "version": 3
   },
   "file_extension": ".py",
   "mimetype": "text/x-python",
   "name": "python",
   "nbconvert_exporter": "python",
   "pygments_lexer": "ipython3",
   "version": "3.12.5"
  }
 },
 "nbformat": 4,
 "nbformat_minor": 5
}
